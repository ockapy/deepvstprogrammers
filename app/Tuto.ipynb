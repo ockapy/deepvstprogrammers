{
 "cells": [
  {
   "cell_type": "markdown",
   "metadata": {},
   "source": [
    "# Quick guide on how to use RenderMan VSTi host library\n",
    "## First, load your plugin.\n",
    "It's important to note that dexed no longer support vst2 as of update 0.9.5.  \n",
    "The library we use to send inputs to Dexed (RenderMan) is no longer supported and lack of compatibility with vst3 plugins.  \n",
    "For thoses reasons we will use Dexed 0.9.4 vst2 plugin."
   ]
  },
  {
   "cell_type": "code",
   "execution_count": 1,
   "metadata": {},
   "outputs": [
    {
     "name": "stdout",
     "output_type": "stream",
     "text": [
      "Loaded successfully\n",
      "  0: Cutoff:\n",
      "  1: Resonance:\n",
      "  2: Output:\n",
      "  3: MASTER TUNE ADJ:\n",
      "  4: ALGORITHM:\n",
      "  5: FEEDBACK:\n",
      "  6: OSC KEY SYNC:\n",
      "  7: LFO SPEED:\n",
      "  8: LFO DELAY:\n",
      "  9: LFO PM DEPTH:\n",
      " 10: LFO AM DEPTH:\n",
      " 11: LFO KEY SYNC:\n",
      " 12: LFO WAVE:\n",
      " 13: MIDDLE C:\n",
      " 14: P MODE SENS.:\n",
      " 15: PITCH EG RATE 1:\n",
      " 16: PITCH EG RATE 2:\n",
      " 17: PITCH EG RATE 3:\n",
      " 18: PITCH EG RATE 4:\n",
      " 19: PITCH EG LEVEL 1:\n",
      " 20: PITCH EG LEVEL 2:\n",
      " 21: PITCH EG LEVEL 3:\n",
      " 22: PITCH EG LEVEL 4:\n",
      " 23: OP1 EG RATE 1:\n",
      " 24: OP1 EG RATE 2:\n",
      " 25: OP1 EG RATE 3:\n",
      " 26: OP1 EG RATE 4:\n",
      " 27: OP1 EG LEVEL 1:\n",
      " 28: OP1 EG LEVEL 2:\n",
      " 29: OP1 EG LEVEL 3:\n",
      " 30: OP1 EG LEVEL 4:\n",
      " 31: OP1 OUTPUT LEVEL:\n",
      " 32: OP1 MODE:\n",
      " 33: OP1 F COARSE:\n",
      " 34: OP1 F FINE:\n",
      " 35: OP1 OSC DETUNE:\n",
      " 36: OP1 BREAK POINT:\n",
      " 37: OP1 L SCALE DEPTH:\n",
      " 38: OP1 R SCALE DEPTH:\n",
      " 39: OP1 L KEY SCALE:\n",
      " 40: OP1 R KEY SCALE:\n",
      " 41: OP1 RATE SCALING:\n",
      " 42: OP1 A MOD SENS.:\n",
      " 43: OP1 KEY VELOCITY:\n",
      " 44: OP1 SWITCH:\n",
      " 45: OP2 EG RATE 1:\n",
      " 46: OP2 EG RATE 2:\n",
      " 47: OP2 EG RATE 3:\n",
      " 48: OP2 EG RATE 4:\n",
      " 49: OP2 EG LEVEL 1:\n",
      " 50: OP2 EG LEVEL 2:\n",
      " 51: OP2 EG LEVEL 3:\n",
      " 52: OP2 EG LEVEL 4:\n",
      " 53: OP2 OUTPUT LEVEL:\n",
      " 54: OP2 MODE:\n",
      " 55: OP2 F COARSE:\n",
      " 56: OP2 F FINE:\n",
      " 57: OP2 OSC DETUNE:\n",
      " 58: OP2 BREAK POINT:\n",
      " 59: OP2 L SCALE DEPTH:\n",
      " 60: OP2 R SCALE DEPTH:\n",
      " 61: OP2 L KEY SCALE:\n",
      " 62: OP2 R KEY SCALE:\n",
      " 63: OP2 RATE SCALING:\n",
      " 64: OP2 A MOD SENS.:\n",
      " 65: OP2 KEY VELOCITY:\n",
      " 66: OP2 SWITCH:\n",
      " 67: OP3 EG RATE 1:\n",
      " 68: OP3 EG RATE 2:\n",
      " 69: OP3 EG RATE 3:\n",
      " 70: OP3 EG RATE 4:\n",
      " 71: OP3 EG LEVEL 1:\n",
      " 72: OP3 EG LEVEL 2:\n",
      " 73: OP3 EG LEVEL 3:\n",
      " 74: OP3 EG LEVEL 4:\n",
      " 75: OP3 OUTPUT LEVEL:\n",
      " 76: OP3 MODE:\n",
      " 77: OP3 F COARSE:\n",
      " 78: OP3 F FINE:\n",
      " 79: OP3 OSC DETUNE:\n",
      " 80: OP3 BREAK POINT:\n",
      " 81: OP3 L SCALE DEPTH:\n",
      " 82: OP3 R SCALE DEPTH:\n",
      " 83: OP3 L KEY SCALE:\n",
      " 84: OP3 R KEY SCALE:\n",
      " 85: OP3 RATE SCALING:\n",
      " 86: OP3 A MOD SENS.:\n",
      " 87: OP3 KEY VELOCITY:\n",
      " 88: OP3 SWITCH:\n",
      " 89: OP4 EG RATE 1:\n",
      " 90: OP4 EG RATE 2:\n",
      " 91: OP4 EG RATE 3:\n",
      " 92: OP4 EG RATE 4:\n",
      " 93: OP4 EG LEVEL 1:\n",
      " 94: OP4 EG LEVEL 2:\n",
      " 95: OP4 EG LEVEL 3:\n",
      " 96: OP4 EG LEVEL 4:\n",
      " 97: OP4 OUTPUT LEVEL:\n",
      " 98: OP4 MODE:\n",
      " 99: OP4 F COARSE:\n",
      "100: OP4 F FINE:\n",
      "101: OP4 OSC DETUNE:\n",
      "102: OP4 BREAK POINT:\n",
      "103: OP4 L SCALE DEPTH:\n",
      "104: OP4 R SCALE DEPTH:\n",
      "105: OP4 L KEY SCALE:\n",
      "106: OP4 R KEY SCALE:\n",
      "107: OP4 RATE SCALING:\n",
      "108: OP4 A MOD SENS.:\n",
      "109: OP4 KEY VELOCITY:\n",
      "110: OP4 SWITCH:\n",
      "111: OP5 EG RATE 1:\n",
      "112: OP5 EG RATE 2:\n",
      "113: OP5 EG RATE 3:\n",
      "114: OP5 EG RATE 4:\n",
      "115: OP5 EG LEVEL 1:\n",
      "116: OP5 EG LEVEL 2:\n",
      "117: OP5 EG LEVEL 3:\n",
      "118: OP5 EG LEVEL 4:\n",
      "119: OP5 OUTPUT LEVEL:\n",
      "120: OP5 MODE:\n",
      "121: OP5 F COARSE:\n",
      "122: OP5 F FINE:\n",
      "123: OP5 OSC DETUNE:\n",
      "124: OP5 BREAK POINT:\n",
      "125: OP5 L SCALE DEPTH:\n",
      "126: OP5 R SCALE DEPTH:\n",
      "127: OP5 L KEY SCALE:\n",
      "128: OP5 R KEY SCALE:\n",
      "129: OP5 RATE SCALING:\n",
      "130: OP5 A MOD SENS.:\n",
      "131: OP5 KEY VELOCITY:\n",
      "132: OP5 SWITCH:\n",
      "133: OP6 EG RATE 1:\n",
      "134: OP6 EG RATE 2:\n",
      "135: OP6 EG RATE 3:\n",
      "136: OP6 EG RATE 4:\n",
      "137: OP6 EG LEVEL 1:\n",
      "138: OP6 EG LEVEL 2:\n",
      "139: OP6 EG LEVEL 3:\n",
      "140: OP6 EG LEVEL 4:\n",
      "141: OP6 OUTPUT LEVEL:\n",
      "142: OP6 MODE:\n",
      "143: OP6 F COARSE:\n",
      "144: OP6 F FINE:\n",
      "145: OP6 OSC DETUNE:\n",
      "146: OP6 BREAK POINT:\n",
      "147: OP6 L SCALE DEPTH:\n",
      "148: OP6 R SCALE DEPTH:\n",
      "149: OP6 L KEY SCALE:\n",
      "150: OP6 R KEY SCALE:\n",
      "151: OP6 RATE SCALING:\n",
      "152: OP6 A MOD SENS.:\n",
      "153: OP6 KEY VELOCITY:\n",
      "154: OP6 SWITCH:\n",
      "\n"
     ]
    }
   ],
   "source": [
    "import utils.librenderman as rm\n",
    "import matplotlib.pyplot as plt\n",
    "\n",
    "engine = rm.RenderEngine(48000,512,512)\n",
    "path = \"./VST/Dexed.dll\" \n",
    "if(engine.load_plugin(path)):\n",
    "    print(\"Loaded successfully\")\n",
    "print(engine.get_plugin_parameters_description()) # Print the available plugins and their descriptions."
   ]
  },
  {
   "cell_type": "markdown",
   "metadata": {},
   "source": [
    "## Params\n",
    "There is a large difference in parameters accessibility between vst2 and vst3 plugins of Dexed.  \n",
    "With vst2 you have access to the same params that you can modify using the app.  \n",
    "With vst3 you have access to all the CC of the plugin resulting in a total of more than 2000 params.  \n",
    "I don't really know if this is due to the RenderMan library lack of compatibility with vst3 plugins or if this is attended.  \n",
    "The problem is that you can corrupt very easily the parmeters of the plugin when you modify all the params.   \n",
    "To display available params for the plugin use this:"
   ]
  },
  {
   "cell_type": "code",
   "execution_count": 2,
   "metadata": {},
   "outputs": [
    {
     "name": "stdout",
     "output_type": "stream",
     "text": [
      "  0: Cutoff:\n",
      "  1: Resonance:\n",
      "  2: Output:\n",
      "  3: MASTER TUNE ADJ:\n",
      "  4: ALGORITHM:\n",
      "  5: FEEDBACK:\n",
      "  6: OSC KEY SYNC:\n",
      "  7: LFO SPEED:\n",
      "  8: LFO DELAY:\n",
      "  9: LFO PM DEPTH:\n",
      " 10: LFO AM DEPTH:\n",
      " 11: LFO KEY SYNC:\n",
      " 12: LFO WAVE:\n",
      " 13: MIDDLE C:\n",
      " 14: P MODE SENS.:\n",
      " 15: PITCH EG RATE 1:\n",
      " 16: PITCH EG RATE 2:\n",
      " 17: PITCH EG RATE 3:\n",
      " 18: PITCH EG RATE 4:\n",
      " 19: PITCH EG LEVEL 1:\n",
      " 20: PITCH EG LEVEL 2:\n",
      " 21: PITCH EG LEVEL 3:\n",
      " 22: PITCH EG LEVEL 4:\n",
      " 23: OP1 EG RATE 1:\n",
      " 24: OP1 EG RATE 2:\n",
      " 25: OP1 EG RATE 3:\n",
      " 26: OP1 EG RATE 4:\n",
      " 27: OP1 EG LEVEL 1:\n",
      " 28: OP1 EG LEVEL 2:\n",
      " 29: OP1 EG LEVEL 3:\n",
      " 30: OP1 EG LEVEL 4:\n",
      " 31: OP1 OUTPUT LEVEL:\n",
      " 32: OP1 MODE:\n",
      " 33: OP1 F COARSE:\n",
      " 34: OP1 F FINE:\n",
      " 35: OP1 OSC DETUNE:\n",
      " 36: OP1 BREAK POINT:\n",
      " 37: OP1 L SCALE DEPTH:\n",
      " 38: OP1 R SCALE DEPTH:\n",
      " 39: OP1 L KEY SCALE:\n",
      " 40: OP1 R KEY SCALE:\n",
      " 41: OP1 RATE SCALING:\n",
      " 42: OP1 A MOD SENS.:\n",
      " 43: OP1 KEY VELOCITY:\n",
      " 44: OP1 SWITCH:\n",
      " 45: OP2 EG RATE 1:\n",
      " 46: OP2 EG RATE 2:\n",
      " 47: OP2 EG RATE 3:\n",
      " 48: OP2 EG RATE 4:\n",
      " 49: OP2 EG LEVEL 1:\n",
      " 50: OP2 EG LEVEL 2:\n",
      " 51: OP2 EG LEVEL 3:\n",
      " 52: OP2 EG LEVEL 4:\n",
      " 53: OP2 OUTPUT LEVEL:\n",
      " 54: OP2 MODE:\n",
      " 55: OP2 F COARSE:\n",
      " 56: OP2 F FINE:\n",
      " 57: OP2 OSC DETUNE:\n",
      " 58: OP2 BREAK POINT:\n",
      " 59: OP2 L SCALE DEPTH:\n",
      " 60: OP2 R SCALE DEPTH:\n",
      " 61: OP2 L KEY SCALE:\n",
      " 62: OP2 R KEY SCALE:\n",
      " 63: OP2 RATE SCALING:\n",
      " 64: OP2 A MOD SENS.:\n",
      " 65: OP2 KEY VELOCITY:\n",
      " 66: OP2 SWITCH:\n",
      " 67: OP3 EG RATE 1:\n",
      " 68: OP3 EG RATE 2:\n",
      " 69: OP3 EG RATE 3:\n",
      " 70: OP3 EG RATE 4:\n",
      " 71: OP3 EG LEVEL 1:\n",
      " 72: OP3 EG LEVEL 2:\n",
      " 73: OP3 EG LEVEL 3:\n",
      " 74: OP3 EG LEVEL 4:\n",
      " 75: OP3 OUTPUT LEVEL:\n",
      " 76: OP3 MODE:\n",
      " 77: OP3 F COARSE:\n",
      " 78: OP3 F FINE:\n",
      " 79: OP3 OSC DETUNE:\n",
      " 80: OP3 BREAK POINT:\n",
      " 81: OP3 L SCALE DEPTH:\n",
      " 82: OP3 R SCALE DEPTH:\n",
      " 83: OP3 L KEY SCALE:\n",
      " 84: OP3 R KEY SCALE:\n",
      " 85: OP3 RATE SCALING:\n",
      " 86: OP3 A MOD SENS.:\n",
      " 87: OP3 KEY VELOCITY:\n",
      " 88: OP3 SWITCH:\n",
      " 89: OP4 EG RATE 1:\n",
      " 90: OP4 EG RATE 2:\n",
      " 91: OP4 EG RATE 3:\n",
      " 92: OP4 EG RATE 4:\n",
      " 93: OP4 EG LEVEL 1:\n",
      " 94: OP4 EG LEVEL 2:\n",
      " 95: OP4 EG LEVEL 3:\n",
      " 96: OP4 EG LEVEL 4:\n",
      " 97: OP4 OUTPUT LEVEL:\n",
      " 98: OP4 MODE:\n",
      " 99: OP4 F COARSE:\n",
      "100: OP4 F FINE:\n",
      "101: OP4 OSC DETUNE:\n",
      "102: OP4 BREAK POINT:\n",
      "103: OP4 L SCALE DEPTH:\n",
      "104: OP4 R SCALE DEPTH:\n",
      "105: OP4 L KEY SCALE:\n",
      "106: OP4 R KEY SCALE:\n",
      "107: OP4 RATE SCALING:\n",
      "108: OP4 A MOD SENS.:\n",
      "109: OP4 KEY VELOCITY:\n",
      "110: OP4 SWITCH:\n",
      "111: OP5 EG RATE 1:\n",
      "112: OP5 EG RATE 2:\n",
      "113: OP5 EG RATE 3:\n",
      "114: OP5 EG RATE 4:\n",
      "115: OP5 EG LEVEL 1:\n",
      "116: OP5 EG LEVEL 2:\n",
      "117: OP5 EG LEVEL 3:\n",
      "118: OP5 EG LEVEL 4:\n",
      "119: OP5 OUTPUT LEVEL:\n",
      "120: OP5 MODE:\n",
      "121: OP5 F COARSE:\n",
      "122: OP5 F FINE:\n",
      "123: OP5 OSC DETUNE:\n",
      "124: OP5 BREAK POINT:\n",
      "125: OP5 L SCALE DEPTH:\n",
      "126: OP5 R SCALE DEPTH:\n",
      "127: OP5 L KEY SCALE:\n",
      "128: OP5 R KEY SCALE:\n",
      "129: OP5 RATE SCALING:\n",
      "130: OP5 A MOD SENS.:\n",
      "131: OP5 KEY VELOCITY:\n",
      "132: OP5 SWITCH:\n",
      "133: OP6 EG RATE 1:\n",
      "134: OP6 EG RATE 2:\n",
      "135: OP6 EG RATE 3:\n",
      "136: OP6 EG RATE 4:\n",
      "137: OP6 EG LEVEL 1:\n",
      "138: OP6 EG LEVEL 2:\n",
      "139: OP6 EG LEVEL 3:\n",
      "140: OP6 EG LEVEL 4:\n",
      "141: OP6 OUTPUT LEVEL:\n",
      "142: OP6 MODE:\n",
      "143: OP6 F COARSE:\n",
      "144: OP6 F FINE:\n",
      "145: OP6 OSC DETUNE:\n",
      "146: OP6 BREAK POINT:\n",
      "147: OP6 L SCALE DEPTH:\n",
      "148: OP6 R SCALE DEPTH:\n",
      "149: OP6 L KEY SCALE:\n",
      "150: OP6 R KEY SCALE:\n",
      "151: OP6 RATE SCALING:\n",
      "152: OP6 A MOD SENS.:\n",
      "153: OP6 KEY VELOCITY:\n",
      "154: OP6 SWITCH:\n",
      "\n"
     ]
    }
   ],
   "source": [
    "params = engine.get_plugin_parameters_description()\n",
    "print(params)"
   ]
  },
  {
   "cell_type": "markdown",
   "metadata": {},
   "source": [
    "## Then Instanciate de Patch Generator\n",
    "The Patch Generator will provide random patchs for your current loaded plugin.  \n",
    "It will also provide normalised patches if you've set the normalisers for your plugin."
   ]
  },
  {
   "cell_type": "code",
   "execution_count": 3,
   "metadata": {},
   "outputs": [],
   "source": [
    "generator = rm.PatchGenerator(engine)"
   ]
  },
  {
   "cell_type": "code",
   "execution_count": 4,
   "metadata": {},
   "outputs": [],
   "source": [
    "\n",
    "# Get a random patch and set it.\n",
    "new_patch = generator.get_random_patch()\n",
    "engine.set_patch(new_patch)"
   ]
  },
  {
   "cell_type": "markdown",
   "metadata": {},
   "source": [
    "## Handling Dexed\n",
    "To use Dexed properly we need to override some parameters to prevent hanging notes."
   ]
  },
  {
   "cell_type": "code",
   "execution_count": 5,
   "metadata": {},
   "outputs": [
    {
     "ename": "NameError",
     "evalue": "name 'alg' is not defined",
     "output_type": "error",
     "traceback": [
      "\u001b[1;31m---------------------------------------------------------------------------\u001b[0m",
      "\u001b[1;31mNameError\u001b[0m                                 Traceback (most recent call last)",
      "Cell \u001b[1;32mIn[5], line 1\u001b[0m\n\u001b[1;32m----> 1\u001b[0m overriden_parameters \u001b[38;5;241m=\u001b[39m [(\u001b[38;5;241m0\u001b[39m, \u001b[38;5;241m1.0\u001b[39m), (\u001b[38;5;241m1\u001b[39m, \u001b[38;5;241m0.0\u001b[39m), (\u001b[38;5;241m2\u001b[39m, \u001b[38;5;241m1.0\u001b[39m), (\u001b[38;5;241m3\u001b[39m, \u001b[38;5;241m0.0\u001b[39m), (\u001b[38;5;241m4\u001b[39m, \u001b[43malg\u001b[49m), (\u001b[38;5;241m6\u001b[39m,\u001b[38;5;241m0.0\u001b[39m),\n\u001b[0;32m      2\u001b[0m                         (\u001b[38;5;241m7\u001b[39m,\u001b[38;5;241m0.0\u001b[39m), (\u001b[38;5;241m8\u001b[39m,\u001b[38;5;241m0.0\u001b[39m), (\u001b[38;5;241m9\u001b[39m,\u001b[38;5;241m0.0\u001b[39m), (\u001b[38;5;241m10\u001b[39m,\u001b[38;5;241m0.\u001b[39m), (\u001b[38;5;241m11\u001b[39m,\u001b[38;5;241m0.0\u001b[39m), (\u001b[38;5;241m12\u001b[39m,\u001b[38;5;241m0.0\u001b[39m),\n\u001b[0;32m      3\u001b[0m                         (\u001b[38;5;241m15\u001b[39m,\u001b[38;5;241m0.0\u001b[39m),(\u001b[38;5;241m16\u001b[39m,\u001b[38;5;241m0.0\u001b[39m),(\u001b[38;5;241m17\u001b[39m,\u001b[38;5;241m0.0\u001b[39m),(\u001b[38;5;241m18\u001b[39m,\u001b[38;5;241m0.0\u001b[39m), \u001b[38;5;66;03m# PITCH EG RATE\u001b[39;00m\n\u001b[0;32m      4\u001b[0m                         (\u001b[38;5;241m19\u001b[39m,\u001b[38;5;241m0.5\u001b[39m),(\u001b[38;5;241m20\u001b[39m,\u001b[38;5;241m0.5\u001b[39m),(\u001b[38;5;241m21\u001b[39m,\u001b[38;5;241m0.5\u001b[39m),(\u001b[38;5;241m22\u001b[39m,\u001b[38;5;241m0.5\u001b[39m), \u001b[38;5;66;03m# PITCH EG LEVEL\u001b[39;00m\n\u001b[0;32m      5\u001b[0m                         (\u001b[38;5;241m26\u001b[39m, \u001b[38;5;241m1.\u001b[39m), (\u001b[38;5;241m29\u001b[39m,\u001b[38;5;241m1.0\u001b[39m), (\u001b[38;5;241m30\u001b[39m, \u001b[38;5;241m0.\u001b[39m),  (\u001b[38;5;241m48\u001b[39m, \u001b[38;5;241m1.\u001b[39m),  (\u001b[38;5;241m52\u001b[39m, \u001b[38;5;241m0.\u001b[39m), \n\u001b[0;32m      6\u001b[0m                         (\u001b[38;5;241m70\u001b[39m, \u001b[38;5;241m1.\u001b[39m),  (\u001b[38;5;241m74\u001b[39m, \u001b[38;5;241m0.\u001b[39m),  (\u001b[38;5;241m92\u001b[39m, \u001b[38;5;241m1.\u001b[39m),  (\u001b[38;5;241m96\u001b[39m, \u001b[38;5;241m0.\u001b[39m), \n\u001b[0;32m      7\u001b[0m                         (\u001b[38;5;241m114\u001b[39m, \u001b[38;5;241m1.\u001b[39m), (\u001b[38;5;241m118\u001b[39m, \u001b[38;5;241m0.\u001b[39m), (\u001b[38;5;241m136\u001b[39m, \u001b[38;5;241m1.\u001b[39m), (\u001b[38;5;241m140\u001b[39m, \u001b[38;5;241m0.\u001b[39m)]\n\u001b[0;32m      9\u001b[0m \u001b[38;5;66;03m# Loop through each tuple, unpack it and override the correct\u001b[39;00m\n\u001b[0;32m     10\u001b[0m \u001b[38;5;66;03m# parameter with the correct value to prevent hanging notes.\u001b[39;00m\n\u001b[0;32m     11\u001b[0m \u001b[38;5;28;01mfor\u001b[39;00m parameter \u001b[38;5;129;01min\u001b[39;00m overriden_parameters:\n",
      "\u001b[1;31mNameError\u001b[0m: name 'alg' is not defined"
     ]
    }
   ],
   "source": [
    "overriden_parameters = [(0, 1.0), (1, 0.0), (2, 1.0), (3, 0.0), (6,0.0),\n",
    "                        (7,0.0), (8,0.0), (9,0.0), (10,0.), (11,0.0), (12,0.0),\n",
    "                        (15,0.0),(16,0.0),(17,0.0),(18,0.0), # PITCH EG RATE\n",
    "                        (19,0.5),(20,0.5),(21,0.5),(22,0.5), # PITCH EG LEVEL\n",
    "                        (26, 1.), (29,1.0), (30, 0.),  (48, 1.),  (52, 0.), \n",
    "                        (70, 1.),  (74, 0.),  (92, 1.),  (96, 0.), \n",
    "                        (114, 1.), (118, 0.), (136, 1.), (140, 0.)]\n",
    "\n",
    "# Loop through each tuple, unpack it and override the correct\n",
    "# parameter with the correct value to prevent hanging notes.\n",
    "for parameter in overriden_parameters:\n",
    "    index, value = parameter\n",
    "    engine.override_plugin_parameter(index, value)"
   ]
  },
  {
   "cell_type": "code",
   "execution_count": null,
   "metadata": {},
   "outputs": [],
   "source": [
    "\n",
    "# Settings to play a note and extract data from the synth.\n",
    "midiNote = 24\n",
    "midiVelocity = 127\n",
    "noteLength = 4.0\n",
    "renderLength = 5.0"
   ]
  },
  {
   "cell_type": "markdown",
   "metadata": {},
   "source": [
    "## RenderPatch\n",
    "RenderPatch will take the random patch that was set before and convert the MIDI Input generated by the patch to audio output.  \n",
    "This will change the parameters values and complete the audio frames."
   ]
  },
  {
   "cell_type": "code",
   "execution_count": null,
   "metadata": {},
   "outputs": [],
   "source": [
    "\n",
    "# Render the data. \n",
    "engine.render_patch(midiNote, midiVelocity, noteLength, renderLength)"
   ]
  },
  {
   "cell_type": "code",
   "execution_count": null,
   "metadata": {},
   "outputs": [],
   "source": [
    "# Get the data. Note the audio is automattically made mono, no\n",
    "# matter what channel size for ease of use.\n",
    "audio = engine.get_audio_frames()\n",
    "mfccs = engine.get_mfcc_frames()"
   ]
  },
  {
   "cell_type": "markdown",
   "metadata": {},
   "source": [
    "## Display the audio"
   ]
  },
  {
   "cell_type": "code",
   "execution_count": null,
   "metadata": {},
   "outputs": [
    {
     "data": {
      "text/plain": [
       "Text(0.5, 0, 'Time (frame count)')"
      ]
     },
     "execution_count": 9,
     "metadata": {},
     "output_type": "execute_result"
    },
    {
     "data": {
      "image/png": "[encoded data removed]",
      "text/plain": [
       "<Figure size 640x480 with 1 Axes>"
      ]
     },
     "metadata": {},
     "output_type": "display_data"
    }
   ],
   "source": [
    "\n",
    "plt.plot(audio)\n",
    "plt.xlabel('Time (frame count)')"
   ]
  },
  {
   "cell_type": "markdown",
   "metadata": {},
   "source": [
    "## Some more exemples\n"
   ]
  },
  {
   "cell_type": "code",
   "execution_count": null,
   "metadata": {},
   "outputs": [
    {
     "data": {
      "image/png": "[encoded data removed]",
      "text/plain": [
       "<Figure size 640x480 with 4 Axes>"
      ]
     },
     "metadata": {},
     "output_type": "display_data"
    }
   ],
   "source": [
    "fig, axs = plt.subplots(2,2)\n",
    "\n",
    "for i in range(2):\n",
    "    for j in range(2):\n",
    "        new_patch = generator.get_random_patch()\n",
    "        engine.set_patch(new_patch)\n",
    "        engine.render_patch(midiNote, midiVelocity, noteLength, noteLength)\n",
    "        audio = engine.get_audio_frames()\n",
    "        axs[i, j].plot(audio)\n"
   ]
  },
  {
   "cell_type": "markdown",
   "metadata": {},
   "source": [
    "# Using the algorithms\n",
    "## Hill climber\n",
    "To use the hill climber algorithm, generate data then use the corressponding script."
   ]
  },
  {
   "cell_type": "code",
   "execution_count": null,
   "metadata": {},
   "outputs": [],
   "source": []
  }
 ],
 "metadata": {
  "kernelspec": {
   "display_name": "Python 3",
   "language": "python",
   "name": "python3"
  },
  "language_info": {
   "codemirror_mode": {
    "name": "ipython",
    "version": 3
   },
   "file_extension": ".py",
   "mimetype": "text/x-python",
   "name": "python",
   "nbconvert_exporter": "python",
   "pygments_lexer": "ipython3",
   "version": "3.9.13"
  }
 },
 "nbformat": 4,
 "nbformat_minor": 2
}
